{
 "cells": [
  {
   "cell_type": "code",
   "execution_count": null,
   "metadata": {},
   "outputs": [],
   "source": [
    "import pickle as pkl\n",
    "import numpy as np\n",
    "from env import TransitNetworkEnv\n",
    "\n",
    "from stable_baselines3 import PPO\n",
    "from stable_baselines3.common.vec_env import SubprocVecEnv\n",
    "from agent import GNNPolicy, FeatureExtractor\n",
    "\n",
    "from matplotlib import pyplot as plt\n",
    "from stable_baselines3.common.utils import obs_as_tensor"
   ]
  },
  {
   "cell_type": "code",
   "execution_count": null,
   "metadata": {},
   "outputs": [],
   "source": [
    "env = TransitNetworkEnv()\n",
    "def make_env(seed):\n",
    "    def _init():\n",
    "        env = TransitNetworkEnv(seed=seed)\n",
    "        return env\n",
    "    return _init\n",
    "\n",
    "n_envs = 6\n",
    "env = SubprocVecEnv([make_env(seed=i*1000) for i in range(n_envs)])"
   ]
  },
  {
   "cell_type": "code",
   "execution_count": null,
   "metadata": {},
   "outputs": [],
   "source": [
    "model = PPO(\n",
    "    tensorboard_log=\"./logs/\",\n",
    "    policy=GNNPolicy,\n",
    "    env=env,\n",
    "    verbose=0,\n",
    "    policy_kwargs=dict(\n",
    "        features_extractor_class=FeatureExtractor,\n",
    "        features_extractor_kwargs=dict(hidden_dim=512, num_heads=4, out_dim=256, env=env),\n",
    "    ),\n",
    "    batch_size=32,\n",
    "    n_steps=32,\n",
    "    learning_rate=1e-5,\n",
    "    gamma=0.999,\n",
    ")"
   ]
  },
  {
   "cell_type": "code",
   "execution_count": null,
   "metadata": {},
   "outputs": [],
   "source": [
    "from stable_baselines3.common.callbacks import BaseCallback\n",
    "\n",
    "class InfoTensorboardCallback(BaseCallback):\n",
    "    def __init__(self, verbose=0):\n",
    "        super().__init__(verbose)\n",
    "\n",
    "    def _on_step(self) -> bool:\n",
    "        infos = self.locals.get(\"infos\", [])\n",
    "\n",
    "        for i, info in enumerate(infos):\n",
    "            for key in info:\n",
    "                self.logger.record(f\"env/{key}\", info[key], self.num_timesteps)\n",
    "            \n",
    "        return True"
   ]
  },
  {
   "cell_type": "code",
   "execution_count": null,
   "metadata": {},
   "outputs": [],
   "source": [
    "callback = InfoTensorboardCallback()\n",
    "model.learn(total_timesteps=1080*100, log_interval=1, callback=callback, tb_log_name=\"first_run\", reset_num_timesteps=False, progress_bar=False)\n",
    "model.save(\"model.pkl\")"
   ]
  },
  {
   "cell_type": "code",
   "execution_count": null,
   "metadata": {},
   "outputs": [],
   "source": [
    "model.load(\"model.pkl\")\n",
    "obs, _ = env.reset()\n",
    "rewards = []\n",
    "\n",
    "i = 0\n",
    "while True:\n",
    "    action = model.policy.predict(obs_as_tensor(obs, device=\"cpu\"))\n",
    "    obs, reward, terminated, truncated, info = env.step(action.squeeze())\n",
    "    env.render()\n",
    "    rewards.append(reward)\n",
    "    if terminated or truncated:\n",
    "        break\n",
    "    i += 1\n",
    "\n",
    "    if i > 2000:\n",
    "        print(\"force breaking\")\n",
    "        break\n",
    "    \n",
    "policy_rewards = [reward for reward in rewards]\n",
    "plt.plot(policy_rewards)"
   ]
  },
  {
   "cell_type": "code",
   "execution_count": null,
   "metadata": {},
   "outputs": [],
   "source": [
    "env = TransitNetworkEnv()\n",
    "obs, _ = env.reset()\n",
    "rewards = []\n",
    "i = 0\n",
    "while True:\n",
    "    action = env.action_space.sample()\n",
    "    obs, reward, terminated, truncated, info = env.step(action.squeeze())\n",
    "    rewards.append(reward)\n",
    "    if terminated or truncated:\n",
    "        break\n",
    "    i += 1\n",
    "\n",
    "    if i > 2000:\n",
    "        print(\"force breaking\")\n",
    "        break"
   ]
  },
  {
   "cell_type": "code",
   "execution_count": null,
   "metadata": {},
   "outputs": [],
   "source": [
    "plt.plot(rewards[:len(policy_rewards)], label=\"random\")\n",
    "plt.plot(policy_rewards, label=\"GNN\")\n",
    "plt.legend()\n",
    "ch = ((np.array(policy_rewards) - np.array(rewards[:len(policy_rewards)]))>0)\n",
    "print(f\"{ch.sum()/ch.shape[0] * 100:.3f}\", r\"% of the time GNN performs better than the random\")"
   ]
  },
  {
   "cell_type": "code",
   "execution_count": null,
   "metadata": {},
   "outputs": [],
   "source": []
  }
 ],
 "metadata": {
  "kernelspec": {
   "display_name": "base",
   "language": "python",
   "name": "python3"
  },
  "language_info": {
   "codemirror_mode": {
    "name": "ipython",
    "version": 3
   },
   "file_extension": ".py",
   "mimetype": "text/x-python",
   "name": "python",
   "nbconvert_exporter": "python",
   "pygments_lexer": "ipython3",
   "version": "3.12.3"
  }
 },
 "nbformat": 4,
 "nbformat_minor": 2
}
