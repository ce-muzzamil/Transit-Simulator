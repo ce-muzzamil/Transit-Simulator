{
 "cells": [
  {
   "cell_type": "code",
   "execution_count": null,
   "metadata": {},
   "outputs": [],
   "source": [
    "import numpy as np\n",
    "from env import TransitNetworkEnv\n",
    "\n",
    "from stable_baselines3 import PPO\n",
    "from stable_baselines3.common.vec_env import SubprocVecEnv\n",
    "from agent import GNNPolicy, FeatureExtractor\n",
    "from stable_baselines3.common.callbacks import BaseCallback\n",
    "\n",
    "from matplotlib import pyplot as plt\n",
    "from stable_baselines3.common.utils import obs_as_tensor\n",
    "from tqdm import tqdm"
   ]
  },
  {
   "cell_type": "code",
   "execution_count": null,
   "metadata": {},
   "outputs": [],
   "source": [
    "def get_model(env):\n",
    "    model = PPO(\n",
    "        tensorboard_log=\"./logs/\",\n",
    "        policy=GNNPolicy,\n",
    "        env=env,\n",
    "        verbose=0,\n",
    "        policy_kwargs=dict(\n",
    "            features_extractor_class=FeatureExtractor,\n",
    "            features_extractor_kwargs=dict(gnn_hidden_dim=64, \n",
    "                                           gnn_num_heads=4, \n",
    "                                           embed_size=128, \n",
    "                                           transformer_num_heads=4, \n",
    "                                           num_encoder_layers=6, \n",
    "                                           num_decoder_layers=6, \n",
    "                                           dropout_rate=0.1)),\n",
    "        batch_size=36,\n",
    "        n_steps=1080,\n",
    "        learning_rate=lambda f: 5e-4 * f,\n",
    "        gamma=0.996,\n",
    "        n_epochs=10,\n",
    "        device=\"cpu\",\n",
    "        ent_coef=0.02,\n",
    "    )\n",
    "    return model"
   ]
  },
  {
   "cell_type": "code",
   "execution_count": null,
   "metadata": {},
   "outputs": [],
   "source": [
    "class InfoTensorboardCallback(BaseCallback):\n",
    "    def __init__(self, verbose=0):\n",
    "        super().__init__(verbose)\n",
    "\n",
    "    def _on_step(self) -> bool:\n",
    "        infos = self.locals.get(\"infos\", [])\n",
    "\n",
    "        for i, info in enumerate(infos):\n",
    "            for key in info:\n",
    "                self.logger.record(f\"env/{key}\", info[key], self.num_timesteps)\n",
    "            \n",
    "        return True\n",
    "    \n",
    "env = TransitNetworkEnv(seed = 0)\n",
    "def make_env(seed):\n",
    "    def _init():\n",
    "        env = TransitNetworkEnv(seed=seed)\n",
    "        return env\n",
    "    return _init\n",
    "\n",
    "n_envs = 6\n",
    "env = SubprocVecEnv([make_env(seed=i*1000) for i in range(n_envs)])\n",
    "\n",
    "callback = InfoTensorboardCallback()\n",
    "model = get_model(env)\n",
    "model.learn(total_timesteps=1080*10_000, log_interval=1, callback=callback, tb_log_name=\"first_run\", reset_num_timesteps=False, progress_bar=False)\n",
    "model.save(\"model\")"
   ]
  },
  {
   "cell_type": "code",
   "execution_count": null,
   "metadata": {},
   "outputs": [],
   "source": [
    "seed = 0\n",
    "env = TransitNetworkEnv(seed = seed)\n",
    "model = get_model(env)\n",
    "model = model.load(\"model\")\n",
    "obs, _ = env.reset()\n",
    "policy_rewards = []\n",
    "for i in tqdm(range(1080)):\n",
    "    action = model.policy.predict(obs_as_tensor(obs, device=\"cpu\"))\n",
    "    obs, reward, terminated, truncated, info = env.step(action.squeeze())\n",
    "    policy_rewards.append(reward)\n",
    "    if terminated or truncated:\n",
    "        break\n",
    "\n",
    "env = TransitNetworkEnv(seed = seed)\n",
    "model = get_model(env)\n",
    "obs, _ = env.reset()\n",
    "random_policy_rewards = []\n",
    "for i in tqdm(range(1080)):\n",
    "    action = model.policy.predict(obs_as_tensor(obs, device=\"cpu\"))\n",
    "    obs, reward, terminated, truncated, info = env.step(action.squeeze())\n",
    "    random_policy_rewards.append(reward)\n",
    "    if terminated or truncated:\n",
    "        break\n",
    "\n",
    "env = TransitNetworkEnv(seed = seed)\n",
    "obs, _ = env.reset()\n",
    "agnostic_rewards = []\n",
    "for i in tqdm(range(1080)):\n",
    "    action = env.action_space.sample()\n",
    "    obs, reward, terminated, truncated, info = env.step(action.squeeze())\n",
    "    agnostic_rewards.append(reward)\n",
    "    if terminated or truncated:\n",
    "        break"
   ]
  },
  {
   "cell_type": "code",
   "execution_count": null,
   "metadata": {},
   "outputs": [],
   "source": [
    "plt.plot(policy_rewards, label=\"GNN\")\n",
    "plt.plot(random_policy_rewards, label=\"Random GNN\")\n",
    "plt.plot(agnostic_rewards, label=\"Data agnostic (Random)\")\n",
    "plt.legend()\n",
    "print(f\"GNN: {np.mean(policy_rewards):.3f}, Random: {np.mean(random_policy_rewards):.3f}, Agnostic: {np.mean(agnostic_rewards):.3f}\")"
   ]
  }
 ],
 "metadata": {
  "kernelspec": {
   "display_name": "base",
   "language": "python",
   "name": "python3"
  },
  "language_info": {
   "codemirror_mode": {
    "name": "ipython",
    "version": 3
   },
   "file_extension": ".py",
   "mimetype": "text/x-python",
   "name": "python",
   "nbconvert_exporter": "python",
   "pygments_lexer": "ipython3",
   "version": "3.12.3"
  }
 },
 "nbformat": 4,
 "nbformat_minor": 2
}
