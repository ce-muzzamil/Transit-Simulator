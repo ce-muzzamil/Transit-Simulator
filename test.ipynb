{
 "cells": [
  {
   "cell_type": "markdown",
   "metadata": {},
   "source": [
    "# Experimenting with the simulated data"
   ]
  },
  {
   "cell_type": "code",
   "execution_count": null,
   "metadata": {},
   "outputs": [],
   "source": [
    "from transit_system import TransitSystem\n",
    "import numpy as np\n",
    "import pandas as pd\n",
    "import pickle as pkl"
   ]
  },
  {
   "cell_type": "code",
   "execution_count": null,
   "metadata": {},
   "outputs": [],
   "source": [
    "seeds = [7594897, 8032337, 3297648, 6458436]\n",
    "\n",
    "datas = []\n",
    "analysis_interval_sec = 30\n",
    "analysis_period_days = 5\n",
    "hours_of_opperation_per_day = 18\n",
    "\n",
    "for num_busses_per_route in [1, 5, 10]:\n",
    "    for seed in seeds:\n",
    "        transit_system = TransitSystem(\n",
    "            analysis_period_sec=analysis_interval_sec,\n",
    "            num_busses_per_route=num_busses_per_route,\n",
    "            hours_of_opperation_per_day=hours_of_opperation_per_day,\n",
    "            min_bus_capacity=10000,\n",
    "            max_bus_capacity=50000,\n",
    "            seed=seed,\n",
    "        )\n",
    "\n",
    "        for i in range(0, hours_of_opperation_per_day * 3600, analysis_interval_sec):\n",
    "            for j in range(analysis_period_days):\n",
    "                transit_system.step(i)\n",
    "\n",
    "    datas.append(pd.read_csv(\"logs/passenger_logs.csv\", low_memory=False))\n",
    "\n",
    "with open(\"data.pkl\", \"wb\") as file:\n",
    "    pkl.dump(datas, file)"
   ]
  },
  {
   "cell_type": "code",
   "execution_count": null,
   "metadata": {},
   "outputs": [],
   "source": [
    "# %time\n",
    "# data = pd.read_csv(\"logs/passenger_logs.csv\", low_memory=False)\n",
    "# data.groupby(\"num_transfers\")[\n",
    "#     [\n",
    "#         \"waiting_time\",\n",
    "#         \"travel_time\",\n",
    "#         \"distance_traversed\",\n",
    "#         \"total_time_taken\",\n",
    "#         \"num_stations_traversed\",\n",
    "#     ]\n",
    "# ].mean()"
   ]
  }
 ],
 "metadata": {
  "kernelspec": {
   "display_name": "Python 3",
   "language": "python",
   "name": "python3"
  },
  "language_info": {
   "codemirror_mode": {
    "name": "ipython",
    "version": 3
   },
   "file_extension": ".py",
   "mimetype": "text/x-python",
   "name": "python",
   "nbconvert_exporter": "python",
   "pygments_lexer": "ipython3",
   "version": "3.12.3"
  }
 },
 "nbformat": 4,
 "nbformat_minor": 2
}
